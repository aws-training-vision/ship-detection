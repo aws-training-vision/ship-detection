{
 "cells": [
  {
   "cell_type": "markdown",
   "metadata": {},
   "source": [
    "# 1. Install the Kaggle API on your SageMaker notebook"
   ]
  },
  {
   "cell_type": "code",
   "execution_count": 1,
   "metadata": {},
   "outputs": [
    {
     "name": "stdout",
     "output_type": "stream",
     "text": [
      "Collecting kaggle\n",
      "\u001b[?25l  Downloading https://files.pythonhosted.org/packages/e9/fc/0de659ea1f2096563204925b6660ae141f3d85bbe9e8a1571c3eb6cc1fdd/kaggle-1.5.5.tar.gz (56kB)\n",
      "\u001b[K    100% |████████████████████████████████| 61kB 18.2MB/s ta 0:00:01\n",
      "\u001b[?25hRequirement already satisfied: urllib3<1.25,>=1.21.1 in /home/ec2-user/anaconda3/envs/python3/lib/python3.6/site-packages (from kaggle) (1.23)\n",
      "Requirement already satisfied: six>=1.10 in /home/ec2-user/anaconda3/envs/python3/lib/python3.6/site-packages (from kaggle) (1.11.0)\n",
      "Requirement already satisfied: certifi in /home/ec2-user/anaconda3/envs/python3/lib/python3.6/site-packages (from kaggle) (2019.3.9)\n",
      "Requirement already satisfied: python-dateutil in /home/ec2-user/anaconda3/envs/python3/lib/python3.6/site-packages (from kaggle) (2.7.3)\n",
      "Requirement already satisfied: requests in /home/ec2-user/anaconda3/envs/python3/lib/python3.6/site-packages (from kaggle) (2.20.0)\n",
      "Collecting tqdm (from kaggle)\n",
      "\u001b[?25l  Downloading https://files.pythonhosted.org/packages/9f/3d/7a6b68b631d2ab54975f3a4863f3c4e9b26445353264ef01f465dc9b0208/tqdm-4.32.2-py2.py3-none-any.whl (50kB)\n",
      "\u001b[K    100% |████████████████████████████████| 51kB 19.1MB/s ta 0:00:01\n",
      "\u001b[?25hCollecting python-slugify (from kaggle)\n",
      "  Downloading https://files.pythonhosted.org/packages/a2/5d/bd30413c00bbed3945558aca07c55944073e1e30abeee1f06515281f9811/python-slugify-3.0.3.tar.gz\n",
      "Requirement already satisfied: idna<2.8,>=2.5 in /home/ec2-user/anaconda3/envs/python3/lib/python3.6/site-packages (from requests->kaggle) (2.6)\n",
      "Requirement already satisfied: chardet<3.1.0,>=3.0.2 in /home/ec2-user/anaconda3/envs/python3/lib/python3.6/site-packages (from requests->kaggle) (3.0.4)\n",
      "Collecting text-unidecode==1.2 (from python-slugify->kaggle)\n",
      "\u001b[?25l  Downloading https://files.pythonhosted.org/packages/79/42/d717cc2b4520fb09e45b344b1b0b4e81aa672001dd128c180fabc655c341/text_unidecode-1.2-py2.py3-none-any.whl (77kB)\n",
      "\u001b[K    100% |████████████████████████████████| 81kB 20.7MB/s ta 0:00:01\n",
      "\u001b[?25hBuilding wheels for collected packages: kaggle, python-slugify\n",
      "  Running setup.py bdist_wheel for kaggle ... \u001b[?25ldone\n",
      "\u001b[?25h  Stored in directory: /home/ec2-user/.cache/pip/wheels/db/6a/80/6cd1892eb9b9b136333db3c74e16cba4e17e2c700f51541f06\n",
      "  Running setup.py bdist_wheel for python-slugify ... \u001b[?25ldone\n",
      "\u001b[?25h  Stored in directory: /home/ec2-user/.cache/pip/wheels/0f/96/ca/85f5b01165975402d1e37f8dd346df00dc39be1d0761bd17bb\n",
      "Successfully built kaggle python-slugify\n",
      "Installing collected packages: tqdm, text-unidecode, python-slugify, kaggle\n",
      "Successfully installed kaggle-1.5.5 python-slugify-3.0.3 text-unidecode-1.2 tqdm-4.32.2\n",
      "\u001b[33mYou are using pip version 10.0.1, however version 19.2.1 is available.\n",
      "You should consider upgrading via the 'pip install --upgrade pip' command.\u001b[0m\n"
     ]
    }
   ],
   "source": [
    "!pip install kaggle"
   ]
  },
  {
   "cell_type": "markdown",
   "metadata": {},
   "source": [
    "# 2. Create a Kaggle API Key\n",
    "1. Create a Kaggle account here: https://www.kaggle.com/\n",
    "2. Create a Kaggle API key\n",
    "3. Upload the Kaggle API key onto your notebook instance."
   ]
  },
  {
   "cell_type": "markdown",
   "metadata": {},
   "source": [
    "Make sure your kaggle.json file is located on the home directory of your notebook instance."
   ]
  },
  {
   "cell_type": "code",
   "execution_count": 6,
   "metadata": {},
   "outputs": [
    {
     "name": "stdout",
     "output_type": "stream",
     "text": [
      "mv: cannot move ‘../../kaggle.json’ to ‘/home/ec2-user/.kaggle/kaggle.json’: No such file or directory\r\n"
     ]
    }
   ],
   "source": [
    "# !mv ../../kaggle.json /home/ec2-user/.kaggle/kaggle.json"
   ]
  },
  {
   "cell_type": "code",
   "execution_count": 7,
   "metadata": {},
   "outputs": [],
   "source": [
    "!chmod 600 /home/ec2-user/.kaggle/kaggle.json"
   ]
  },
  {
   "cell_type": "markdown",
   "metadata": {},
   "source": [
    "This next command downloads the data to your notebook instance. Make sure you're doing this in the Cloud, rather than from your laptop. That will save your local network bandwidth from having to download the file, and will free up space on your laptop! \n",
    "\n",
    "The last line in the API kaggle file is going to be specific to your Kaggle competition. Make sure to modify it based on the data you actually want to download."
   ]
  },
  {
   "cell_type": "code",
   "execution_count": 22,
   "metadata": {},
   "outputs": [
    {
     "name": "stdout",
     "output_type": "stream",
     "text": [
      "Downloading sample_submission_v2.csv to /home/ec2-user/SageMaker/ship-detection/Notebooks\n",
      "  0%|                                                | 0.00/274k [00:00<?, ?B/s]\n",
      "100%|████████████████████████████████████████| 274k/274k [00:00<00:00, 23.0MB/s]\n",
      "Downloading train_ship_segmentations_v2.csv.zip to /home/ec2-user/SageMaker/ship-detection/Notebooks\n",
      " 78%|█████████████████████████████▌        | 14.0M/18.0M [00:00<00:00, 19.1MB/s]\n",
      "100%|██████████████████████████████████████| 18.0M/18.0M [00:00<00:00, 24.6MB/s]\n",
      "Downloading test_v2.zip to /home/ec2-user/SageMaker/ship-detection/Notebooks\n",
      "100%|█████████████████████████████████████▉| 2.12G/2.12G [01:25<00:00, 14.9MB/s]\n",
      "100%|██████████████████████████████████████| 2.12G/2.12G [01:25<00:00, 26.5MB/s]\n",
      "Downloading train_v2.zip to /home/ec2-user/SageMaker/ship-detection/Notebooks\n",
      "100%|█████████████████████████████████████▉| 26.4G/26.4G [13:39<00:00, 47.4MB/s]\n",
      "100%|██████████████████████████████████████| 26.4G/26.4G [13:39<00:00, 34.6MB/s]\n"
     ]
    }
   ],
   "source": [
    "!kaggle competitions download -c airbus-ship-detection"
   ]
  },
  {
   "cell_type": "code",
   "execution_count": 16,
   "metadata": {
    "scrolled": true
   },
   "outputs": [
    {
     "name": "stdout",
     "output_type": "stream",
     "text": [
      "ref                                                         title                                                size  lastUpdated          downloadCount  voteCount  usabilityRating  \r\n",
      "----------------------------------------------------------  --------------------------------------------------  -----  -------------------  -------------  ---------  ---------------  \r\n",
      "new-york-state/nys-environmental-remediation-sites          NYS Environmental Remediation Sites                   3MB  2019-07-31 08:23:12           1429         79  0.852941155      \r\n",
      "google/google-landmarks-dataset                             Google-Landmarks Dataset                            107MB  2019-07-31 12:00:25          10092        344  0.8235294        \r\n",
      "new-york-city/new-york-city-current-job-postings            New York City Current Job Postings                    3MB  2019-07-28 22:04:53           4976        117  0.852941155      \r\n",
      "AnalyzeBoston/crimes-in-boston                              Crimes in Boston                                     10MB  2018-09-04 17:56:03           5394        128  0.8235294        \r\n",
      "jealousleopard/goodreadsbooks                               Goodreads-books                                     632KB  2019-06-14 16:35:05           5763        253  1.0              \r\n",
      "sudalairajkumar/chennai-water-management                    Chennai Water Management                             75KB  2019-06-19 03:42:44           4422        171  1.0              \r\n",
      "wkirgsn/electric-motor-temperature                          Electric Motor Temperature                           47MB  2019-06-19 11:12:41           2336         85  1.0              \r\n",
      "matheusfreitag/gas-prices-in-brazil                         Gas Prices in Brazil                                  3MB  2019-07-12 16:23:52           3440        104  1.0              \r\n",
      "r3w0p4/recorded-crime-data-at-police-force-area-level       Recorded Crime Data at the Police Force Area Level  300KB  2019-06-21 15:16:46           1218         17  1.0              \r\n",
      "jolasa/waves-measuring-buoys-data-mooloolaba                Waves Measuring Buoys Data                          599KB  2019-07-07 16:59:44            563         12  1.0              \r\n",
      "eliasdabbas/search-engine-results-flights-tickets-keywords  Search Engine Results - Flights & Tickets Keywords   21MB  2019-07-15 11:46:54            958         29  0.9117647        \r\n",
      "doit-intl/autotel-shared-car-locations                      Shared Cars Locations                                78MB  2019-01-10 13:06:00            607         25  0.8235294        \r\n",
      "Madgrades/uw-madison-courses                                UW Madison Courses and Grades 2006-2017              90MB  2018-05-15 18:58:25           1085         33  0.852941155      \r\n",
      "r3w0p4/bournemouth-venues                                   Venues in Bournemouth                                 3KB  2019-07-08 14:26:48            458         23  1.0              \r\n",
      "datafiniti/womens-shoes-prices                              Women's Shoe Prices                                  12MB  2019-06-24 22:50:14           8943        172  0.852941155      \r\n",
      "university-of-edinburgh/peace-agreements-dataset            Peace Agreements Dataset                              1MB  2018-03-05 16:39:50            458         27  0.7647059        \r\n",
      "citizen-ds-ghana/health-facilities-gh                       Ghana Health Facilities                              84KB  2018-09-03 01:19:24            545         19  0.882352948      \r\n",
      "inIT-OWL/vega-shrinkwrapper-runtofailure-data               Vega shrink-wrapper component degradation           408KB  2018-11-12 13:03:43            209         15  0.882352948      \r\n",
      "datafiniti/pizza-restaurants-and-the-pizza-they-sell        Pizza Restaurants and the Pizza They Sell           850KB  2019-05-30 00:21:21           3849         66  0.7647059        \r\n",
      "citylines/city-lines                                        Transit systems of world                              3MB  2019-03-25 16:53:05           1433         43  0.7647059        \r\n"
     ]
    }
   ],
   "source": [
    "import sagemaker\n",
    "from sagemaker import get_execution_role\n",
    "import json\n",
    "import boto3\n",
    "\n",
    "sess = sagemaker.Session()\n",
    "\n",
    "role = get_execution_role()\n",
    "print(role) # This is the role that SageMaker would use to leverage AWS resources (S3, CloudWatch) on your behalf\n",
    "\n",
    "bucket = sess.default_bucket() # Replace with your own bucket name if needed\n",
    "print(bucket)\n",
    "prefix = 'ship_detection' #Replace with the prefix under which you want to store the data if needed\n",
    "train_img = prefix + '/train/sample'\n",
    "train_img = prefix + '/train/train_annotation'\n",
    "train_channel = prefix + '/train'\n",
    "validation_channel = prefix + '/validation'\n",
    "\n",
    "sess.upload_data(path='dbpedia.train', bucket=bucket, key_prefix=train_channel)\n",
    "sess.upload_data(path='dbpedia.validation', bucket=bucket, key_prefix=validation_channel)"
   ]
  }
 ],
 "metadata": {
  "kernelspec": {
   "display_name": "conda_python3",
   "language": "python",
   "name": "conda_python3"
  },
  "language_info": {
   "codemirror_mode": {
    "name": "ipython",
    "version": 3
   },
   "file_extension": ".py",
   "mimetype": "text/x-python",
   "name": "python",
   "nbconvert_exporter": "python",
   "pygments_lexer": "ipython3",
   "version": "3.6.5"
  }
 },
 "nbformat": 4,
 "nbformat_minor": 2
}
